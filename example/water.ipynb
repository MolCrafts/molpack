{
 "cells": [
  {
   "cell_type": "code",
   "execution_count": 1,
   "metadata": {},
   "outputs": [],
   "source": [
    "%reload_ext autoreload\n",
    "%autoreload 2\n",
    "\n",
    "import numpy as np\n",
    "import molpy as mp\n",
    "import molpack as mpk"
   ]
  },
  {
   "cell_type": "code",
   "execution_count": 2,
   "metadata": {},
   "outputs": [
    {
     "data": {
      "text/plain": [
       "<Struct 3 atoms>"
      ]
     },
     "execution_count": 2,
     "metadata": {},
     "output_type": "execute_result"
    }
   ],
   "source": [
    "H2O = mp.Struct(\n",
    "    \"h2o\",\n",
    "    atoms=[\n",
    "        mp.Atom(name=\"O\", x=0.00000, y=-0.06556, z=0.00000),\n",
    "        mp.Atom(name=\"H1\", x=0.75695, y=0.52032, z=0.00000),\n",
    "        mp.Atom(name=\"H2\", x=-0.75695, y=0.52032, z=0.00000),\n",
    "    ],\n",
    "    bonds=[],\n",
    ")\n",
    "H2O.add_bond_(\"O\", \"H1\")\n",
    "H2O.add_bond_(\"O\", \"H2\")"
   ]
  },
  {
   "cell_type": "code",
   "execution_count": 3,
   "metadata": {},
   "outputs": [],
   "source": [
    "targets = [mpk.Target(H2O.to_frame(), 10, mp.region.Cube(np.array([0, 0, 0]), 10))]"
   ]
  },
  {
   "cell_type": "code",
   "execution_count": 4,
   "metadata": {},
   "outputs": [],
   "source": [
    "import nlopt"
   ]
  },
  {
   "cell_type": "code",
   "execution_count": null,
   "metadata": {},
   "outputs": [],
   "source": []
  },
  {
   "cell_type": "code",
   "execution_count": null,
   "metadata": {},
   "outputs": [
    {
     "name": "stdout",
     "output_type": "stream",
     "text": [
      "10.0\n"
     ]
    }
   ],
   "source": [
    "n = 5\n",
    "molecule_coords = [\n",
    "    H2O.to_frame()[\"atoms\"][[\"x\", \"y\", \"z\"]].to_numpy() for _ in range(n)\n",
    "]\n",
    "\n",
    "d_min = 1.0\n",
    "\n",
    "\n",
    "def f(x, grad):\n",
    "    penalty = 0.0\n",
    "    translations = x[: 3 * n].reshape(n, 3)\n",
    "    rotations = x[3 * n :].reshape(n, 4)\n",
    "\n",
    "    for i in range(n):\n",
    "        for j in range(i + 1, n):\n",
    "            min_dist = np.inf\n",
    "            for k1 in range(len(molecule_coords[i])):\n",
    "                for k2 in range(len(molecule_coords[j])):\n",
    "                    coord_i = (\n",
    "                        mp.op.rotate_q(molecule_coords[i][k1], rotations[i])\n",
    "                        + translations[i]\n",
    "                    )\n",
    "                    coord_j = (\n",
    "                        mp.op.rotate_q(molecule_coords[j][k2], rotations[j])\n",
    "                        + translations[i]\n",
    "                    )\n",
    "                    dist = np.linalg.norm(coord_i - coord_j)\n",
    "                    min_dist = min(min_dist, dist)\n",
    "            if min_dist < d_min:\n",
    "                penalty += (d_min - min_dist) ** 2 # + geometry penalty\n",
    "    print(penalty)\n",
    "    return penalty\n",
    "\n",
    "\n",
    "opt = nlopt.opt(nlopt.LD_SLSQP, 7 * 5)\n",
    "\n",
    "opt.set_min_objective(f)\n",
    "lower_bounds = np.hstack(\n",
    "    [-10 * np.ones(3 * n), -1 * np.ones(4 * n)]\n",
    ")  # 平移下界 & 四元数下界\n",
    "upper_bounds = np.hstack(\n",
    "    [10 * np.ones(3 * n), 1 * np.ones(4 * n)]\n",
    ")  # 平移上界 & 四元数上界\n",
    "opt.set_lower_bounds(lower_bounds)\n",
    "opt.set_upper_bounds(upper_bounds)\n",
    "\n",
    "opt.set_xtol_rel(1e-6)\n",
    "\n",
    "# 开始优化\n",
    "initial_translations = np.zeros((n, 3))  # 初始平移\n",
    "initial_rotations = np.array([[1, 0, 0, 0] for _ in range(n)])  # 初始单位四元数\n",
    "initial_guess = np.hstack([initial_translations.flatten(), initial_rotations.flatten()])\n",
    "optimized_result = opt.optimize(initial_guess)\n",
    "\n",
    "# 提取结果\n",
    "optimized_translations = optimized_result[: 3 * n].reshape(n, 3)\n",
    "optimized_rotations = optimized_result[3 * n :].reshape(n, 4)"
   ]
  },
  {
   "cell_type": "code",
   "execution_count": 23,
   "metadata": {},
   "outputs": [
    {
     "data": {
      "text/plain": [
       "array([10., 10., 10., 10., 10., 10., 10., 10., 10., 10., 10., 10., 10.,\n",
       "       10., 10.,  1.,  1.,  1.,  1.,  1.,  1.,  1.,  1.,  1.,  1.,  1.,\n",
       "        1.,  1.,  1.,  1.,  1.,  1.,  1.,  1.,  1.])"
      ]
     },
     "execution_count": 23,
     "metadata": {},
     "output_type": "execute_result"
    }
   ],
   "source": [
    "upper_bounds"
   ]
  },
  {
   "cell_type": "code",
   "execution_count": 10,
   "metadata": {},
   "outputs": [],
   "source": [
    "opt_val = opt.last_optimum_value()\n",
    "result = opt.last_optimize_result()"
   ]
  },
  {
   "cell_type": "code",
   "execution_count": 11,
   "metadata": {},
   "outputs": [
    {
     "data": {
      "text/plain": [
       "10.0"
      ]
     },
     "execution_count": 11,
     "metadata": {},
     "output_type": "execute_result"
    }
   ],
   "source": [
    "opt_val"
   ]
  },
  {
   "cell_type": "code",
   "execution_count": 12,
   "metadata": {},
   "outputs": [
    {
     "data": {
      "text/plain": [
       "4"
      ]
     },
     "execution_count": 12,
     "metadata": {},
     "output_type": "execute_result"
    }
   ],
   "source": [
    "result"
   ]
  },
  {
   "cell_type": "code",
   "execution_count": null,
   "metadata": {},
   "outputs": [],
   "source": []
  }
 ],
 "metadata": {
  "kernelspec": {
   "display_name": "base",
   "language": "python",
   "name": "python3"
  },
  "language_info": {
   "codemirror_mode": {
    "name": "ipython",
    "version": 3
   },
   "file_extension": ".py",
   "mimetype": "text/x-python",
   "name": "python",
   "nbconvert_exporter": "python",
   "pygments_lexer": "ipython3",
   "version": "3.12.2"
  }
 },
 "nbformat": 4,
 "nbformat_minor": 2
}
