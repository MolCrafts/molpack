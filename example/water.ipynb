{
 "cells": [
  {
   "cell_type": "code",
   "execution_count": 1,
   "metadata": {},
   "outputs": [],
   "source": [
    "%reload_ext autoreload\n",
    "%autoreload 2\n",
    "\n",
    "import numpy as np\n",
    "import molpy as mp\n",
    "import molpack as mpk"
   ]
  },
  {
   "cell_type": "code",
   "execution_count": 2,
   "metadata": {},
   "outputs": [
    {
     "data": {
      "text/plain": [
       "<Struct h2o: 3 atoms>"
      ]
     },
     "execution_count": 2,
     "metadata": {},
     "output_type": "execute_result"
    }
   ],
   "source": [
    "H2O = mp.Struct(\n",
    "    \"h2o\",\n",
    "    atoms=[\n",
    "        mp.Atom(name=\"O\", x=0.00000, y=-0.06556, z=0.00000),\n",
    "        mp.Atom(name=\"H1\", x=0.75695, y=0.52032, z=0.00000),\n",
    "        mp.Atom(name=\"H2\", x=-0.75695, y=0.52032, z=0.00000),\n",
    "    ],\n",
    "    bonds=[],\n",
    ")\n",
    "H2O.add_bond_(\"O\", \"H1\")\n",
    "H2O.add_bond_(\"O\", \"H2\")"
   ]
  },
  {
   "cell_type": "code",
   "execution_count": 6,
   "metadata": {},
   "outputs": [
    {
     "data": {
      "text/plain": [
       "<Target water_box: density=0.33>"
      ]
     },
     "execution_count": 6,
     "metadata": {},
     "output_type": "execute_result"
    }
   ],
   "source": [
    "water_box = mpk.Target(\n",
    "    H2O.to_frame(),\n",
    "    number = 10,\n",
    "    region = mp.region.Cuboid([0, 0, 0], [3, 4, 5]),\n",
    "    name=\"water_box\"\n",
    ")\n",
    "water_box"
   ]
  },
  {
   "cell_type": "code",
   "execution_count": 74,
   "metadata": {},
   "outputs": [
    {
     "name": "stdout",
     "output_type": "stream",
     "text": [
      "Using COBYLA (Constrained Optimization BY Linear Approximations) (local, no-derivative) algorithm\n",
      "Number of to be optimized parameters: 90\n"
     ]
    },
    {
     "ename": "invalid_argument",
     "evalue": "",
     "output_type": "error",
     "traceback": [
      "\u001b[0;31m---------------------------------------------------------------------------\u001b[0m",
      "\u001b[0;31minvalid_argument\u001b[0m                          Traceback (most recent call last)",
      "Cell \u001b[0;32mIn[74], line 3\u001b[0m\n\u001b[1;32m      1\u001b[0m packer \u001b[38;5;241m=\u001b[39m mpk\u001b[38;5;241m.\u001b[39mNloptPacker()\n\u001b[1;32m      2\u001b[0m packer\u001b[38;5;241m.\u001b[39madd_target(water_box)\n\u001b[0;32m----> 3\u001b[0m xyz \u001b[38;5;241m=\u001b[39m \u001b[43mpacker\u001b[49m\u001b[38;5;241;43m.\u001b[39;49m\u001b[43mpack\u001b[49m\u001b[43m(\u001b[49m\u001b[43m)\u001b[49m\n",
      "File \u001b[0;32m/workspaces/molcrafts/molpack/src/molpack/packer/nlopt.py:56\u001b[0m, in \u001b[0;36mNloptPacker.pack\u001b[0;34m(self)\u001b[0m\n\u001b[1;32m     54\u001b[0m opt\u001b[38;5;241m.\u001b[39mset_xtol_rel(\u001b[38;5;241m1e-4\u001b[39m)\n\u001b[1;32m     55\u001b[0m opt\u001b[38;5;241m.\u001b[39madd_inequality_mconstraint(constraints, np\u001b[38;5;241m.\u001b[39mzeros(\u001b[38;5;28mlen\u001b[39m(\u001b[38;5;28mself\u001b[39m\u001b[38;5;241m.\u001b[39mtargets)))\n\u001b[0;32m---> 56\u001b[0m result \u001b[38;5;241m=\u001b[39m \u001b[43mopt\u001b[49m\u001b[38;5;241;43m.\u001b[39;49m\u001b[43moptimize\u001b[49m\u001b[43m(\u001b[49m\u001b[43mx\u001b[49m\u001b[43m)\u001b[49m\n\u001b[1;32m     57\u001b[0m optimal_value \u001b[38;5;241m=\u001b[39m opt\u001b[38;5;241m.\u001b[39mlast_optimum_value()\n\u001b[1;32m     59\u001b[0m \u001b[38;5;28mprint\u001b[39m(\u001b[38;5;124mf\u001b[39m\u001b[38;5;124m\"\u001b[39m\u001b[38;5;124mOptimal solution: \u001b[39m\u001b[38;5;132;01m{\u001b[39;00mresult\u001b[38;5;132;01m}\u001b[39;00m\u001b[38;5;124m\"\u001b[39m)\n",
      "File \u001b[0;32m/opt/conda/lib/python3.12/site-packages/nlopt/nlopt.py:454\u001b[0m, in \u001b[0;36mopt.optimize\u001b[0;34m(self, *args)\u001b[0m\n\u001b[1;32m    453\u001b[0m \u001b[38;5;28;01mdef\u001b[39;00m \u001b[38;5;21moptimize\u001b[39m(\u001b[38;5;28mself\u001b[39m, \u001b[38;5;241m*\u001b[39margs):\n\u001b[0;32m--> 454\u001b[0m     \u001b[38;5;28;01mreturn\u001b[39;00m \u001b[43m_nlopt\u001b[49m\u001b[38;5;241;43m.\u001b[39;49m\u001b[43mopt_optimize\u001b[49m\u001b[43m(\u001b[49m\u001b[38;5;28;43mself\u001b[39;49m\u001b[43m,\u001b[49m\u001b[43m \u001b[49m\u001b[38;5;241;43m*\u001b[39;49m\u001b[43margs\u001b[49m\u001b[43m)\u001b[49m\n",
      "\u001b[0;31minvalid_argument\u001b[0m: "
     ]
    }
   ],
   "source": [
    "packer = mpk.NloptPacker()\n",
    "packer.add_target(water_box)\n",
    "xyz = packer.pack()"
   ]
  },
  {
   "cell_type": "code",
   "execution_count": null,
   "metadata": {},
   "outputs": [
    {
     "ename": "NameError",
     "evalue": "name 'num_vars' is not defined",
     "output_type": "error",
     "traceback": [
      "\u001b[0;31m---------------------------------------------------------------------------\u001b[0m",
      "\u001b[0;31mNameError\u001b[0m                                 Traceback (most recent call last)",
      "Cell \u001b[0;32mIn[75], line 27\u001b[0m\n\u001b[1;32m     24\u001b[0m         \u001b[38;5;28;01mraise\u001b[39;00m \u001b[38;5;167;01mNotImplementedError\u001b[39;00m(\u001b[38;5;124m\"\u001b[39m\u001b[38;5;124mGradient computation is not implemented\u001b[39m\u001b[38;5;124m\"\u001b[39m)\n\u001b[1;32m     26\u001b[0m \u001b[38;5;66;03m# 初始化内部优化器\u001b[39;00m\n\u001b[0;32m---> 27\u001b[0m inner_opt \u001b[38;5;241m=\u001b[39m nlopt\u001b[38;5;241m.\u001b[39mopt(nlopt\u001b[38;5;241m.\u001b[39mLD_MMA, \u001b[43mnum_vars\u001b[49m)  \u001b[38;5;66;03m# 使用 LD_MMA 优化器\u001b[39;00m\n\u001b[1;32m     28\u001b[0m inner_opt\u001b[38;5;241m.\u001b[39mset_min_objective(objective_function)\n\u001b[1;32m     30\u001b[0m \u001b[38;5;66;03m# 设置边界\u001b[39;00m\n",
      "\u001b[0;31mNameError\u001b[0m: name 'num_vars' is not defined"
     ]
    }
   ],
   "source": [
    "import nlopt\n",
    "import numpy as np\n",
    "\n",
    "# 目标函数：最大化原子间距\n",
    "def objective_function(x, grad):\n",
    "    xyz = x.reshape(-1, 3)\n",
    "    # 计算所有原子间的距离\n",
    "    distances = np.linalg.norm(xyz[:, None, :] - xyz[None, :, :], axis=-1)\n",
    "    np.fill_diagonal(distances, np.inf)  # 忽略自距离\n",
    "    min_distance = distances.min()  # 找到最小距离\n",
    "    if grad.size > 0:\n",
    "        raise NotImplementedError(\"Gradient computation is not implemented\")\n",
    "    return -min_distance  # 目标是最大化最小距离，因此取负号\n",
    "\n",
    "# 几何约束：限制所有点在上下界范围内\n",
    "def geometry_constraint(result, x, grad):\n",
    "    xyz = x.reshape(-1, 3)\n",
    "    upper_violation = xyz - np.array([3, 4, 5])\n",
    "    lower_violation = np.zeros(3, ) - xyz\n",
    "    # 计算约束值（最大违约情况）\n",
    "    violations = np.maximum(upper_violation, 0).max() + np.maximum(lower_violation, 0).max()\n",
    "    result[0] = violations\n",
    "    if grad.size > 0:\n",
    "        raise NotImplementedError(\"Gradient computation is not implemented\")\n",
    "\n",
    "# 初始化内部优化器\n",
    "inner_opt = nlopt.opt(nlopt.LD_MMA, 90)  # 使用 LD_MMA 优化器\n",
    "inner_opt.set_min_objective(objective_function)\n",
    "\n",
    "# 设置边界\n",
    "# inner_opt.set_lower_bounds(lower_bounds)\n",
    "# inner_opt.set_upper_bounds(upper_bounds)\n",
    "\n",
    "# 初始化 AUGLAG 优化器\n",
    "opt = nlopt.opt(nlopt.AUGLAG, 90)\n",
    "opt.set_local_optimizer(inner_opt)\n",
    "\n",
    "# 添加几何约束\n",
    "tol = np.array([1e-8])  # 容差\n",
    "opt.add_inequality_mconstraint(geometry_constraint, tol)\n",
    "\n",
    "# 设置初始值\n",
    "x0 = np.zeros(90)\n",
    "\n",
    "# 开始优化\n",
    "result = opt.optimize(x0)\n",
    "optimal_value = opt.last_optimum_value()\n",
    "\n",
    "print(f\"Optimal solution: {result}\")\n",
    "print(f\"Optimal value: {optimal_value}\")"
   ]
  },
  {
   "cell_type": "code",
   "execution_count": 49,
   "metadata": {},
   "outputs": [
    {
     "data": {
      "text/plain": [
       "[[1318.0781416475195, 1328.179354045545, 1339.713267558748],\n",
       " [1368.8238990076543, -141.16545139246955, -137.47845504647086],\n",
       " [-140.57796652364223, -111.43112622188471, -100.54820690993306],\n",
       " [-88.26054286682259, -79.98655820671307, -69.78543040467152],\n",
       " [-45.36327581443838, -41.166393887893406, -39.18993818755069],\n",
       " [-42.926843689866025, -16.882155649288713, -10.10616342329023],\n",
       " [-1.61189382359925, 5.074421660940758, 11.548589893015038],\n",
       " [30.645642791798696, 33.136303604421556, 32.926495320470416],\n",
       " [28.052069928192914, 45.6010277709035, 50.67168836687925],\n",
       " [56.91081565999413, 60.03137856367809, 65.13211765849773],\n",
       " [79.42996249046895, 78.37221644107818, 75.88766796406426],\n",
       " [68.44491743372497, 83.47299637897079, 83.50022001971557],\n",
       " [88.75823293311454, 86.19670382031474, 89.65376836697729],\n",
       " [98.62597198530645, 95.82947404552536, 91.472651844464],\n",
       " [82.06925411967957, 91.95295857113962, 90.55965845040508],\n",
       " [89.3031302714254, 87.73450463973366, 87.28106776340915],\n",
       " [91.78390438301643, 86.00736409792287, 78.29410218749673],\n",
       " [67.3506489382924, 73.29494651276153, 68.56515463887027],\n",
       " [66.42960817545605, 60.55463243208918, 55.53833387102065],\n",
       " [56.00883412064051, 48.35395463447054, 37.697715340278485],\n",
       " [26.264940574700066, 26.468506295114814, 19.915195368202678],\n",
       " [10.644366031911408, 4.613261859890372, -6.253326527703759],\n",
       " [-9.516418037483474, -19.55506711460761, -30.41219788365452],\n",
       " [-44.96955803321526, -50.635062707164955, -60.779242940000266],\n",
       " [-73.18513256240708, -81.42033738709995, -92.3474071513109],\n",
       " [-101.51890916680887, -114.69825031805975, -127.08631198173481],\n",
       " [-144.82341705781042, -150.97057390066718, -168.2320213823782],\n",
       " [-178.27115014102122, -194.52650011295984, -206.06836290415248],\n",
       " [-223.62910359645164, -235.84032260723345, -256.17870152786713],\n",
       " [-267.1688175993668, -288.9926695691268, -297.5920665264362]]"
      ]
     },
     "execution_count": 49,
     "metadata": {},
     "output_type": "execute_result"
    }
   ],
   "source": []
  },
  {
   "cell_type": "code",
   "execution_count": null,
   "metadata": {},
   "outputs": [],
   "source": []
  }
 ],
 "metadata": {
  "kernelspec": {
   "display_name": "base",
   "language": "python",
   "name": "python3"
  },
  "language_info": {
   "codemirror_mode": {
    "name": "ipython",
    "version": 3
   },
   "file_extension": ".py",
   "mimetype": "text/x-python",
   "name": "python",
   "nbconvert_exporter": "python",
   "pygments_lexer": "ipython3",
   "version": "3.12.8"
  }
 },
 "nbformat": 4,
 "nbformat_minor": 2
}
